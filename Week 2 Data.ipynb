{
 "cells": [
  {
   "cell_type": "markdown",
   "metadata": {},
   "source": [
    "# 2. Data Acquisition and Cleansing"
   ]
  },
  {
   "cell_type": "markdown",
   "metadata": {},
   "source": [
    "## 2.1 Data Source"
   ]
  },
  {
   "cell_type": "markdown",
   "metadata": {},
   "source": [
    "Accident severity data can be found in this Kaggle <a href=\"https://www.kaggle.com/jonleon/seattle-sdot-collisions-data/\">dataset</a> from the Seattle DOT.  Data is from 2004 to present."
   ]
  },
  {
   "cell_type": "markdown",
   "metadata": {},
   "source": [
    "## 2.2 Data Cleansing"
   ]
  },
  {
   "cell_type": "markdown",
   "metadata": {},
   "source": [
    "IIn its original form, this data is not fit for analysis. There are many columns that are not relevant for use in this model and therefore will be removed. Also, most of the features are of object type, when they should be numerical. We must use one-hot encoding to convert the features to our desired data type. Other flag columns include a combination of object and numerical data which much also be consistently converted to 0 or 1.  MinMaxScaler will be used to scale numerical values to a given range. Lastly, there is some missing data in the columns which must be filled in using the median data point. With the new columns, we can now use this data in our analysis and machine learning models."
   ]
  },
  {
   "cell_type": "markdown",
   "metadata": {},
   "source": [
    "## 2.3 Feature Selection"
   ]
  },
  {
   "cell_type": "markdown",
   "metadata": {},
   "source": [
    "The target variable will be SEVERITYCODE because it is used measure the severity of an accident from 0 to 5 within the dataset. I decided to keep all features that were related to the outcome of the severity of the accident and remove those that were only descriptive in nature. After all, 17 features were selected: eight (8) categorical, five (5) flags, and four (4) numeric.\n"
   ]
  },
  {
   "cell_type": "markdown",
   "metadata": {},
   "source": [
    "<img src=\"Data Table for Capstone Project.png\">"
   ]
  },
  {
   "cell_type": "code",
   "execution_count": null,
   "metadata": {},
   "outputs": [],
   "source": []
  }
 ],
 "metadata": {
  "kernelspec": {
   "display_name": "Python 3",
   "language": "python",
   "name": "python3"
  },
  "language_info": {
   "codemirror_mode": {
    "name": "ipython",
    "version": 3
   },
   "file_extension": ".py",
   "mimetype": "text/x-python",
   "name": "python",
   "nbconvert_exporter": "python",
   "pygments_lexer": "ipython3",
   "version": "3.8.3"
  }
 },
 "nbformat": 4,
 "nbformat_minor": 4
}

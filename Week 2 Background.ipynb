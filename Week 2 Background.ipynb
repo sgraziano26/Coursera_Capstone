{
 "cells": [
  {
   "cell_type": "markdown",
   "metadata": {},
   "source": [
    "# 1. Introduction"
   ]
  },
  {
   "cell_type": "markdown",
   "metadata": {},
   "source": [
    "## 1.1 Background"
   ]
  },
  {
   "cell_type": "markdown",
   "metadata": {},
   "source": [
    "People are driving more now than they ever have been; whether it be commuting, seeing friends, road tripping, or rushing to get the kids to soccer.  For our routine commutes, we all have the time it takes to get to one place from another programmed in our heads and typically don’t leave much wiggle room for accidents or other delays.  However, weather and road conditions change day to day and each year there are tens of thousands of car accident deaths in the U.S.  These changing weather conditions play a significant role in the outcome of a car accident. Therefore, it is beneficial to accurately predict whether and how severe a car accident will be based on weather and road conditions.  For example, this information can be used to know when to plan an alternative route when commuting."
   ]
  },
  {
   "cell_type": "code",
   "execution_count": null,
   "metadata": {},
   "outputs": [],
   "source": [
    "## 1.2 Problem"
   ]
  }
 ],
 "metadata": {
  "kernelspec": {
   "display_name": "Python 3",
   "language": "python",
   "name": "python3"
  },
  "language_info": {
   "codemirror_mode": {
    "name": "ipython",
    "version": 3
   },
   "file_extension": ".py",
   "mimetype": "text/x-python",
   "name": "python",
   "nbconvert_exporter": "python",
   "pygments_lexer": "ipython3",
   "version": "3.8.3"
  }
 },
 "nbformat": 4,
 "nbformat_minor": 4
}

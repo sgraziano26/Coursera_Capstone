{
  "nbformat": 4,
  "nbformat_minor": 0,
  "metadata": {
    "colab": {
      "name": "CourseraCapstoneFeatureResearch.ipynb",
      "provenance": [],
      "toc_visible": true,
      "authorship_tag": "ABX9TyMV0aNR5CnxX4Bp00NsYIq9",
      "include_colab_link": true
    },
    "kernelspec": {
      "name": "python3",
      "display_name": "Python 3"
    }
  },
  "cells": [
    {
      "cell_type": "markdown",
      "metadata": {
        "id": "view-in-github",
        "colab_type": "text"
      },
      "source": [
        "<a href=\"https://colab.research.google.com/github/sgraziano26/Coursera_Capstone/blob/master/CourseraCapstoneFeatureResearch.ipynb\" target=\"_parent\"><img src=\"https://colab.research.google.com/assets/colab-badge.svg\" alt=\"Open In Colab\"/></a>"
      ]
    },
    {
      "cell_type": "code",
      "metadata": {
        "id": "xB0HPimHUySU"
      },
      "source": [
        "import pandas as pd\n",
        "import numpy as np\n",
        "from sklearn.preprocessing import OneHotEncoder, MinMaxScaler\n",
        "from sklearn.ensemble import RandomForestClassifier"
      ],
      "execution_count": 47,
      "outputs": []
    },
    {
      "cell_type": "code",
      "metadata": {
        "id": "HO9KCVK-O_Kq",
        "outputId": "84981f6e-7e00-47e3-fabf-931c295cd5e6",
        "colab": {
          "base_uri": "https://localhost:8080/",
          "height": 725
        }
      },
      "source": [
        "df = pd.read_csv(\"Collisions.csv\")\n",
        "df.head()"
      ],
      "execution_count": 48,
      "outputs": [
        {
          "output_type": "stream",
          "text": [
            "/usr/local/lib/python3.6/dist-packages/IPython/core/interactiveshell.py:2718: DtypeWarning: Columns (35) have mixed types.Specify dtype option on import or set low_memory=False.\n",
            "  interactivity=interactivity, compiler=compiler, result=result)\n"
          ],
          "name": "stderr"
        },
        {
          "output_type": "execute_result",
          "data": {
            "text/html": [
              "<div>\n",
              "<style scoped>\n",
              "    .dataframe tbody tr th:only-of-type {\n",
              "        vertical-align: middle;\n",
              "    }\n",
              "\n",
              "    .dataframe tbody tr th {\n",
              "        vertical-align: top;\n",
              "    }\n",
              "\n",
              "    .dataframe thead th {\n",
              "        text-align: right;\n",
              "    }\n",
              "</style>\n",
              "<table border=\"1\" class=\"dataframe\">\n",
              "  <thead>\n",
              "    <tr style=\"text-align: right;\">\n",
              "      <th></th>\n",
              "      <th>X</th>\n",
              "      <th>Y</th>\n",
              "      <th>OBJECTID</th>\n",
              "      <th>INCKEY</th>\n",
              "      <th>COLDETKEY</th>\n",
              "      <th>REPORTNO</th>\n",
              "      <th>STATUS</th>\n",
              "      <th>ADDRTYPE</th>\n",
              "      <th>INTKEY</th>\n",
              "      <th>LOCATION</th>\n",
              "      <th>EXCEPTRSNCODE</th>\n",
              "      <th>EXCEPTRSNDESC</th>\n",
              "      <th>SEVERITYCODE</th>\n",
              "      <th>SEVERITYDESC</th>\n",
              "      <th>COLLISIONTYPE</th>\n",
              "      <th>PERSONCOUNT</th>\n",
              "      <th>PEDCOUNT</th>\n",
              "      <th>PEDCYLCOUNT</th>\n",
              "      <th>VEHCOUNT</th>\n",
              "      <th>INJURIES</th>\n",
              "      <th>SERIOUSINJURIES</th>\n",
              "      <th>FATALITIES</th>\n",
              "      <th>INCDATE</th>\n",
              "      <th>INCDTTM</th>\n",
              "      <th>JUNCTIONTYPE</th>\n",
              "      <th>SDOT_COLCODE</th>\n",
              "      <th>SDOT_COLDESC</th>\n",
              "      <th>INATTENTIONIND</th>\n",
              "      <th>UNDERINFL</th>\n",
              "      <th>WEATHER</th>\n",
              "      <th>ROADCOND</th>\n",
              "      <th>LIGHTCOND</th>\n",
              "      <th>PEDROWNOTGRNT</th>\n",
              "      <th>SDOTCOLNUM</th>\n",
              "      <th>SPEEDING</th>\n",
              "      <th>ST_COLCODE</th>\n",
              "      <th>ST_COLDESC</th>\n",
              "      <th>SEGLANEKEY</th>\n",
              "      <th>CROSSWALKKEY</th>\n",
              "      <th>HITPARKEDCAR</th>\n",
              "    </tr>\n",
              "  </thead>\n",
              "  <tbody>\n",
              "    <tr>\n",
              "      <th>0</th>\n",
              "      <td>-122.344896</td>\n",
              "      <td>47.717173</td>\n",
              "      <td>1</td>\n",
              "      <td>1003</td>\n",
              "      <td>1003</td>\n",
              "      <td>3503158</td>\n",
              "      <td>Matched</td>\n",
              "      <td>Block</td>\n",
              "      <td>NaN</td>\n",
              "      <td>AURORA AVE N BETWEEN N 117TH PL AND N 125TH ST</td>\n",
              "      <td></td>\n",
              "      <td>NaN</td>\n",
              "      <td>2</td>\n",
              "      <td>Injury Collision</td>\n",
              "      <td>Cycles</td>\n",
              "      <td>2</td>\n",
              "      <td>0</td>\n",
              "      <td>1</td>\n",
              "      <td>1</td>\n",
              "      <td>1</td>\n",
              "      <td>0</td>\n",
              "      <td>0</td>\n",
              "      <td>2013/03/14 00:00:00+00</td>\n",
              "      <td>3/14/2013 17:30</td>\n",
              "      <td>Driveway Junction</td>\n",
              "      <td>18.0</td>\n",
              "      <td>MOTOR VEHICLE STRUCK PEDALCYCLIST, FRONT END A...</td>\n",
              "      <td>NaN</td>\n",
              "      <td>N</td>\n",
              "      <td>Clear</td>\n",
              "      <td>Dry</td>\n",
              "      <td>Daylight</td>\n",
              "      <td>Y</td>\n",
              "      <td>NaN</td>\n",
              "      <td>NaN</td>\n",
              "      <td>45</td>\n",
              "      <td>Vehicle - Pedalcyclist</td>\n",
              "      <td>15057</td>\n",
              "      <td>0</td>\n",
              "      <td>N</td>\n",
              "    </tr>\n",
              "    <tr>\n",
              "      <th>1</th>\n",
              "      <td>-122.376467</td>\n",
              "      <td>47.543774</td>\n",
              "      <td>2</td>\n",
              "      <td>56200</td>\n",
              "      <td>56200</td>\n",
              "      <td>1795087</td>\n",
              "      <td>Matched</td>\n",
              "      <td>Block</td>\n",
              "      <td>NaN</td>\n",
              "      <td>35TH AVE SW BETWEEN SW MORGAN ST AND SW HOLLY ST</td>\n",
              "      <td>NaN</td>\n",
              "      <td>NaN</td>\n",
              "      <td>2</td>\n",
              "      <td>Injury Collision</td>\n",
              "      <td>Pedestrian</td>\n",
              "      <td>7</td>\n",
              "      <td>1</td>\n",
              "      <td>0</td>\n",
              "      <td>1</td>\n",
              "      <td>1</td>\n",
              "      <td>0</td>\n",
              "      <td>0</td>\n",
              "      <td>2006/01/15 00:00:00+00</td>\n",
              "      <td>1/15/2006 17:35</td>\n",
              "      <td>Mid-Block (not related to intersection)</td>\n",
              "      <td>24.0</td>\n",
              "      <td>MOTOR VEHCILE STRUCK PEDESTRIAN</td>\n",
              "      <td>NaN</td>\n",
              "      <td>0</td>\n",
              "      <td>Overcast</td>\n",
              "      <td>Dry</td>\n",
              "      <td>Dark - Street Lights On</td>\n",
              "      <td>NaN</td>\n",
              "      <td>6015003.0</td>\n",
              "      <td>NaN</td>\n",
              "      <td>0</td>\n",
              "      <td>Vehicle going straight hits pedestrian</td>\n",
              "      <td>0</td>\n",
              "      <td>0</td>\n",
              "      <td>N</td>\n",
              "    </tr>\n",
              "    <tr>\n",
              "      <th>2</th>\n",
              "      <td>-122.360735</td>\n",
              "      <td>47.701487</td>\n",
              "      <td>3</td>\n",
              "      <td>327037</td>\n",
              "      <td>328537</td>\n",
              "      <td>E979380</td>\n",
              "      <td>Matched</td>\n",
              "      <td>Intersection</td>\n",
              "      <td>37122.0</td>\n",
              "      <td>3RD AVE NW AND NW 100TH ST</td>\n",
              "      <td></td>\n",
              "      <td>NaN</td>\n",
              "      <td>1</td>\n",
              "      <td>Property Damage Only Collision</td>\n",
              "      <td>Angles</td>\n",
              "      <td>2</td>\n",
              "      <td>0</td>\n",
              "      <td>0</td>\n",
              "      <td>2</td>\n",
              "      <td>0</td>\n",
              "      <td>0</td>\n",
              "      <td>0</td>\n",
              "      <td>2019/09/09 00:00:00+00</td>\n",
              "      <td>9/9/2019 15:32</td>\n",
              "      <td>At Intersection (intersection related)</td>\n",
              "      <td>14.0</td>\n",
              "      <td>MOTOR VEHICLE STRUCK MOTOR VEHICLE, REAR END</td>\n",
              "      <td>NaN</td>\n",
              "      <td>N</td>\n",
              "      <td>Overcast</td>\n",
              "      <td>Wet</td>\n",
              "      <td>Daylight</td>\n",
              "      <td>NaN</td>\n",
              "      <td>NaN</td>\n",
              "      <td>NaN</td>\n",
              "      <td>10</td>\n",
              "      <td>Entering at angle</td>\n",
              "      <td>0</td>\n",
              "      <td>0</td>\n",
              "      <td>N</td>\n",
              "    </tr>\n",
              "    <tr>\n",
              "      <th>3</th>\n",
              "      <td>-122.297415</td>\n",
              "      <td>47.599233</td>\n",
              "      <td>4</td>\n",
              "      <td>327278</td>\n",
              "      <td>328778</td>\n",
              "      <td>E996362</td>\n",
              "      <td>Unmatched</td>\n",
              "      <td>Intersection</td>\n",
              "      <td>30602.0</td>\n",
              "      <td>M L KING JR WAY S AND S JACKSON ST</td>\n",
              "      <td></td>\n",
              "      <td>NaN</td>\n",
              "      <td>1</td>\n",
              "      <td>Property Damage Only Collision</td>\n",
              "      <td>NaN</td>\n",
              "      <td>2</td>\n",
              "      <td>0</td>\n",
              "      <td>0</td>\n",
              "      <td>0</td>\n",
              "      <td>0</td>\n",
              "      <td>0</td>\n",
              "      <td>0</td>\n",
              "      <td>2019/12/19 00:00:00+00</td>\n",
              "      <td>12/19/2019</td>\n",
              "      <td>At Intersection (intersection related)</td>\n",
              "      <td>14.0</td>\n",
              "      <td>MOTOR VEHICLE STRUCK MOTOR VEHICLE, REAR END</td>\n",
              "      <td>NaN</td>\n",
              "      <td>NaN</td>\n",
              "      <td>NaN</td>\n",
              "      <td>NaN</td>\n",
              "      <td>NaN</td>\n",
              "      <td>NaN</td>\n",
              "      <td>NaN</td>\n",
              "      <td>NaN</td>\n",
              "      <td></td>\n",
              "      <td>NaN</td>\n",
              "      <td>0</td>\n",
              "      <td>0</td>\n",
              "      <td>N</td>\n",
              "    </tr>\n",
              "    <tr>\n",
              "      <th>4</th>\n",
              "      <td>-122.368001</td>\n",
              "      <td>47.653585</td>\n",
              "      <td>5</td>\n",
              "      <td>1248</td>\n",
              "      <td>1248</td>\n",
              "      <td>3645424</td>\n",
              "      <td>Unmatched</td>\n",
              "      <td>Block</td>\n",
              "      <td>NaN</td>\n",
              "      <td>W EWING ST BETWEEN 6TH AVE W AND W EWING PL</td>\n",
              "      <td></td>\n",
              "      <td>NaN</td>\n",
              "      <td>0</td>\n",
              "      <td>Unknown</td>\n",
              "      <td>NaN</td>\n",
              "      <td>1</td>\n",
              "      <td>0</td>\n",
              "      <td>0</td>\n",
              "      <td>0</td>\n",
              "      <td>0</td>\n",
              "      <td>0</td>\n",
              "      <td>0</td>\n",
              "      <td>2013/03/27 00:00:00+00</td>\n",
              "      <td>3/27/2013</td>\n",
              "      <td>Mid-Block (not related to intersection)</td>\n",
              "      <td>0.0</td>\n",
              "      <td>NOT ENOUGH INFORMATION / NOT APPLICABLE</td>\n",
              "      <td>NaN</td>\n",
              "      <td>NaN</td>\n",
              "      <td>NaN</td>\n",
              "      <td>NaN</td>\n",
              "      <td>NaN</td>\n",
              "      <td>NaN</td>\n",
              "      <td>NaN</td>\n",
              "      <td>NaN</td>\n",
              "      <td></td>\n",
              "      <td>NaN</td>\n",
              "      <td>0</td>\n",
              "      <td>0</td>\n",
              "      <td>N</td>\n",
              "    </tr>\n",
              "  </tbody>\n",
              "</table>\n",
              "</div>"
            ],
            "text/plain": [
              "            X          Y  OBJECTID  ...  SEGLANEKEY  CROSSWALKKEY HITPARKEDCAR\n",
              "0 -122.344896  47.717173         1  ...       15057             0            N\n",
              "1 -122.376467  47.543774         2  ...           0             0            N\n",
              "2 -122.360735  47.701487         3  ...           0             0            N\n",
              "3 -122.297415  47.599233         4  ...           0             0            N\n",
              "4 -122.368001  47.653585         5  ...           0             0            N\n",
              "\n",
              "[5 rows x 40 columns]"
            ]
          },
          "metadata": {
            "tags": []
          },
          "execution_count": 48
        }
      ]
    },
    {
      "cell_type": "code",
      "metadata": {
        "id": "CPGjAYt_Q2T2"
      },
      "source": [
        "df2 = df.copy()"
      ],
      "execution_count": 49,
      "outputs": []
    },
    {
      "cell_type": "code",
      "metadata": {
        "id": "9qwZixhON6BA",
        "outputId": "b32c4631-6096-4071-c4e1-48db7e274a4e",
        "colab": {
          "base_uri": "https://localhost:8080/",
          "height": 728
        }
      },
      "source": [
        "df2.dtypes"
      ],
      "execution_count": 50,
      "outputs": [
        {
          "output_type": "execute_result",
          "data": {
            "text/plain": [
              "X                  float64\n",
              "Y                  float64\n",
              "OBJECTID             int64\n",
              "INCKEY               int64\n",
              "COLDETKEY            int64\n",
              "REPORTNO            object\n",
              "STATUS              object\n",
              "ADDRTYPE            object\n",
              "INTKEY             float64\n",
              "LOCATION            object\n",
              "EXCEPTRSNCODE       object\n",
              "EXCEPTRSNDESC       object\n",
              "SEVERITYCODE        object\n",
              "SEVERITYDESC        object\n",
              "COLLISIONTYPE       object\n",
              "PERSONCOUNT          int64\n",
              "PEDCOUNT             int64\n",
              "PEDCYLCOUNT          int64\n",
              "VEHCOUNT             int64\n",
              "INJURIES             int64\n",
              "SERIOUSINJURIES      int64\n",
              "FATALITIES           int64\n",
              "INCDATE             object\n",
              "INCDTTM             object\n",
              "JUNCTIONTYPE        object\n",
              "SDOT_COLCODE       float64\n",
              "SDOT_COLDESC        object\n",
              "INATTENTIONIND      object\n",
              "UNDERINFL           object\n",
              "WEATHER             object\n",
              "ROADCOND            object\n",
              "LIGHTCOND           object\n",
              "PEDROWNOTGRNT       object\n",
              "SDOTCOLNUM         float64\n",
              "SPEEDING            object\n",
              "ST_COLCODE          object\n",
              "ST_COLDESC          object\n",
              "SEGLANEKEY           int64\n",
              "CROSSWALKKEY         int64\n",
              "HITPARKEDCAR        object\n",
              "dtype: object"
            ]
          },
          "metadata": {
            "tags": []
          },
          "execution_count": 50
        }
      ]
    },
    {
      "cell_type": "code",
      "metadata": {
        "id": "ApkUsg0Ac95k"
      },
      "source": [
        "#Drop columns\n",
        "df2.drop(['X','Y','OBJECTID','INCKEY','COLDETKEY','REPORTNO','STATUS','INTKEY','LOCATION','EXCEPTRSNCODE','EXCEPTRSNDESC','SEVERITYDESC','INCDATE','INCDTTM','SDOT_COLDESC','SDOTCOLNUM','ST_COLDESC','SEGLANEKEY','CROSSWALKKEY','ST_COLCODE','SDOT_COLCODE'], axis = 1, inplace=True)"
      ],
      "execution_count": 51,
      "outputs": []
    },
    {
      "cell_type": "code",
      "metadata": {
        "id": "b33gs9-pmLPr"
      },
      "source": [
        "#Change all object fields to lower case for consistency\n",
        "df2['ADDRTYPE'] = df2['ADDRTYPE'].str.lower()\n",
        "df2['JUNCTIONTYPE'] = df2['JUNCTIONTYPE'].str.lower()\n",
        "df2['WEATHER'] = df2['WEATHER'].str.lower()\n",
        "df2['COLLISIONTYPE'] = df2['COLLISIONTYPE'].str.lower()\n",
        "df2['ROADCOND'] = df2['ROADCOND'].str.lower()\n",
        "df2['LIGHTCOND'] = df2['LIGHTCOND'].str.lower()\n",
        "df2['HITPARKEDCAR'] = df2['HITPARKEDCAR'].str.lower()\n",
        "df2['SPEEDING'] = df2['SPEEDING'].str.lower()\n",
        "df2['INATTENTIONIND'] = df2['INATTENTIONIND'].str.lower()\n",
        "df2['UNDERINFL'] = df2['UNDERINFL'].str.lower()\n",
        "df2['PEDROWNOTGRNT'] = df2['PEDROWNOTGRNT'].str.lower()"
      ],
      "execution_count": 52,
      "outputs": []
    },
    {
      "cell_type": "code",
      "metadata": {
        "id": "vdhgdo_pPUlh"
      },
      "source": [
        "#Turning Flags to Numeric\n",
        "df2.UNDERINFL.replace(to_replace=['n', 'y'], value=[0, 1], inplace=True)\n",
        "df2.INATTENTIONIND.replace(to_replace=[ np.NaN, 'y'], value=[0, 1], inplace=True)\n",
        "df2.HITPARKEDCAR.replace(to_replace=['n', 'y'], value=[0, 1], inplace=True)\n",
        "df2.SPEEDING.replace(to_replace=['y',  np.NaN], value=[1, 0], inplace=True)\n",
        "df2.PEDROWNOTGRNT.replace(to_replace=[ np.NaN, 'y'], value=[0, 1], inplace=True)\n",
        "df2.UNDERINFL =df2.UNDERINFL.astype(float)"
      ],
      "execution_count": 53,
      "outputs": []
    },
    {
      "cell_type": "code",
      "metadata": {
        "id": "Vs5PpcarrrNO"
      },
      "source": [
        "#Create target variable and category variables\n",
        "y = ['SEVERITYCODE']\n",
        "flags = ['INATTENTIONIND','UNDERINFL','SPEEDING']#,'HITPARKEDCAR','PEDROWNOTGRNT']\n",
        "cat_columns = ['ROADCOND','LIGHTCOND','WEATHER']#'COLLISIONTYPE','ADDRTYPE','JUNCTIONTYPE',]\n",
        "numeric_columns = ['VEHCOUNT']#,'FATALITIES','PEDCYLCOUNT','SERIOUSINJURIES','PERSONCOUNT','PEDCOUNT','INJURIES']"
      ],
      "execution_count": 54,
      "outputs": []
    },
    {
      "cell_type": "code",
      "metadata": {
        "id": "TPL3NEac7rTI",
        "outputId": "223b1837-d46c-4352-e545-86a68d2862f5",
        "colab": {
          "base_uri": "https://localhost:8080/",
          "height": 156
        }
      },
      "source": [
        "from sklearn.impute import SimpleImputer\n",
        "for f in cat_columns:\n",
        "  print(f, df2[f].unique())"
      ],
      "execution_count": 55,
      "outputs": [
        {
          "output_type": "stream",
          "text": [
            "ROADCOND ['dry' 'wet' nan 'unknown' 'ice' 'other' 'snow/slush' 'standing water'\n",
            " 'oil' 'sand/mud/dirt']\n",
            "LIGHTCOND ['daylight' 'dark - street lights on' nan 'dark - no street lights' 'dawn'\n",
            " 'unknown' 'dark - street lights off' 'dusk' 'other'\n",
            " 'dark - unknown lighting']\n",
            "WEATHER ['clear' 'overcast' nan 'raining' 'unknown' 'sleet/hail/freezing rain'\n",
            " 'other' 'snowing' 'fog/smog/smoke' 'blowing sand/dirt' 'severe crosswind'\n",
            " 'partly cloudy' 'blowing snow']\n"
          ],
          "name": "stdout"
        }
      ]
    },
    {
      "cell_type": "code",
      "metadata": {
        "id": "YP-kQVw6AcYZ"
      },
      "source": [
        "#Imputing\n",
        "imp = SimpleImputer(missing_values=np.nan, strategy='most_frequent')\n",
        "imp2 =  SimpleImputer(missing_values=np.nan, strategy='mean')\n",
        "cat_cols = pd.DataFrame(imp.fit_transform(df2[flags+cat_columns]), columns=flags+cat_columns)\n",
        "num_cols = pd.DataFrame(imp2.fit_transform(df2[numeric_columns]), columns  = numeric_columns)\n",
        "fdf = pd.concat([cat_cols, num_cols], axis = 1)"
      ],
      "execution_count": 56,
      "outputs": []
    },
    {
      "cell_type": "code",
      "metadata": {
        "id": "uIrrmS9NA9d-"
      },
      "source": [
        "#One Hot Encoding\n",
        "end = OneHotEncoder(sparse=False)\n",
        "new_cat = end.fit_transform(fdf[cat_columns])\n",
        "cat_names = end.get_feature_names(input_features = cat_columns)\n",
        "cat_col_end = pd.DataFrame(new_cat, columns = cat_names)"
      ],
      "execution_count": 57,
      "outputs": []
    },
    {
      "cell_type": "code",
      "metadata": {
        "id": "H6GPgFLkB_km",
        "outputId": "6a6753c5-22a1-410c-829c-8c1838758b5d",
        "colab": {
          "base_uri": "https://localhost:8080/",
          "height": 202
        }
      },
      "source": [
        "#Min Max Scaler\n",
        "scl = MinMaxScaler()\n",
        "scl.fit(fdf[numeric_columns])\n",
        "dat = scl.transform(fdf[numeric_columns])\n",
        "num_col_scl = pd.DataFrame(dat, columns = numeric_columns)\n",
        "num_col_scl.head()"
      ],
      "execution_count": 58,
      "outputs": [
        {
          "output_type": "execute_result",
          "data": {
            "text/html": [
              "<div>\n",
              "<style scoped>\n",
              "    .dataframe tbody tr th:only-of-type {\n",
              "        vertical-align: middle;\n",
              "    }\n",
              "\n",
              "    .dataframe tbody tr th {\n",
              "        vertical-align: top;\n",
              "    }\n",
              "\n",
              "    .dataframe thead th {\n",
              "        text-align: right;\n",
              "    }\n",
              "</style>\n",
              "<table border=\"1\" class=\"dataframe\">\n",
              "  <thead>\n",
              "    <tr style=\"text-align: right;\">\n",
              "      <th></th>\n",
              "      <th>VEHCOUNT</th>\n",
              "    </tr>\n",
              "  </thead>\n",
              "  <tbody>\n",
              "    <tr>\n",
              "      <th>0</th>\n",
              "      <td>0.066667</td>\n",
              "    </tr>\n",
              "    <tr>\n",
              "      <th>1</th>\n",
              "      <td>0.066667</td>\n",
              "    </tr>\n",
              "    <tr>\n",
              "      <th>2</th>\n",
              "      <td>0.133333</td>\n",
              "    </tr>\n",
              "    <tr>\n",
              "      <th>3</th>\n",
              "      <td>0.000000</td>\n",
              "    </tr>\n",
              "    <tr>\n",
              "      <th>4</th>\n",
              "      <td>0.000000</td>\n",
              "    </tr>\n",
              "  </tbody>\n",
              "</table>\n",
              "</div>"
            ],
            "text/plain": [
              "   VEHCOUNT\n",
              "0  0.066667\n",
              "1  0.066667\n",
              "2  0.133333\n",
              "3  0.000000\n",
              "4  0.000000"
            ]
          },
          "metadata": {
            "tags": []
          },
          "execution_count": 58
        }
      ]
    },
    {
      "cell_type": "code",
      "metadata": {
        "id": "yDxNtaTMP00k"
      },
      "source": [
        "#Concatenate into a variable all preprocessed columns\n",
        "fdf2 = pd.concat([fdf[flags],cat_col_end,num_col_scl], axis = 1)"
      ],
      "execution_count": 59,
      "outputs": []
    },
    {
      "cell_type": "code",
      "metadata": {
        "id": "82ElMP1tTGz2",
        "outputId": "6300c775-4c60-4618-bb57-0d4f59f05c6b",
        "colab": {
          "base_uri": "https://localhost:8080/",
          "height": 35
        }
      },
      "source": [
        "df2.SEVERITYCODE.replace(to_replace=[np.nan], value=['1'], inplace=True)\n",
        "df2.SEVERITYCODE.isnull().sum()"
      ],
      "execution_count": 60,
      "outputs": [
        {
          "output_type": "execute_result",
          "data": {
            "text/plain": [
              "0"
            ]
          },
          "metadata": {
            "tags": []
          },
          "execution_count": 60
        }
      ]
    },
    {
      "cell_type": "code",
      "metadata": {
        "id": "jiNULxwGT8jc",
        "outputId": "355cbcaa-439b-454b-9d67-2597070908bc",
        "colab": {
          "base_uri": "https://localhost:8080/",
          "height": 35
        }
      },
      "source": [
        "mdl = RandomForestClassifier()\n",
        "mdl.fit(fdf2, df2.SEVERITYCODE)\n",
        "mdl.score(fdf2, df2.SEVERITYCODE)"
      ],
      "execution_count": 61,
      "outputs": [
        {
          "output_type": "execute_result",
          "data": {
            "text/plain": [
              "0.7269054368826854"
            ]
          },
          "metadata": {
            "tags": []
          },
          "execution_count": 61
        }
      ]
    },
    {
      "cell_type": "code",
      "metadata": {
        "id": "mYSl5MvbzXrv"
      },
      "source": [
        "importance = pd.DataFrame(mdl.feature_importances_)"
      ],
      "execution_count": 62,
      "outputs": []
    },
    {
      "cell_type": "code",
      "metadata": {
        "id": "_tuNyi29zXuE"
      },
      "source": [
        "importance['cols'] = fdf2.columns"
      ],
      "execution_count": 63,
      "outputs": []
    },
    {
      "cell_type": "code",
      "metadata": {
        "id": "Rw-0knPnzXw2",
        "outputId": "ada427fe-ea26-454e-ce54-949fa88be489",
        "colab": {
          "base_uri": "https://localhost:8080/",
          "height": 1000
        }
      },
      "source": [
        "importance.columns = ['Imp','cols']\n",
        "importance.sort_values(by = 'Imp', ascending=False)"
      ],
      "execution_count": 64,
      "outputs": [
        {
          "output_type": "execute_result",
          "data": {
            "text/html": [
              "<div>\n",
              "<style scoped>\n",
              "    .dataframe tbody tr th:only-of-type {\n",
              "        vertical-align: middle;\n",
              "    }\n",
              "\n",
              "    .dataframe tbody tr th {\n",
              "        vertical-align: top;\n",
              "    }\n",
              "\n",
              "    .dataframe thead th {\n",
              "        text-align: right;\n",
              "    }\n",
              "</style>\n",
              "<table border=\"1\" class=\"dataframe\">\n",
              "  <thead>\n",
              "    <tr style=\"text-align: right;\">\n",
              "      <th></th>\n",
              "      <th>Imp</th>\n",
              "      <th>cols</th>\n",
              "    </tr>\n",
              "  </thead>\n",
              "  <tbody>\n",
              "    <tr>\n",
              "      <th>33</th>\n",
              "      <td>0.794022</td>\n",
              "      <td>VEHCOUNT</td>\n",
              "    </tr>\n",
              "    <tr>\n",
              "      <th>10</th>\n",
              "      <td>0.027129</td>\n",
              "      <td>ROADCOND_unknown</td>\n",
              "    </tr>\n",
              "    <tr>\n",
              "      <th>17</th>\n",
              "      <td>0.023342</td>\n",
              "      <td>LIGHTCOND_daylight</td>\n",
              "    </tr>\n",
              "    <tr>\n",
              "      <th>32</th>\n",
              "      <td>0.021133</td>\n",
              "      <td>WEATHER_unknown</td>\n",
              "    </tr>\n",
              "    <tr>\n",
              "      <th>20</th>\n",
              "      <td>0.019610</td>\n",
              "      <td>LIGHTCOND_unknown</td>\n",
              "    </tr>\n",
              "    <tr>\n",
              "      <th>23</th>\n",
              "      <td>0.018528</td>\n",
              "      <td>WEATHER_clear</td>\n",
              "    </tr>\n",
              "    <tr>\n",
              "      <th>0</th>\n",
              "      <td>0.014538</td>\n",
              "      <td>INATTENTIONIND</td>\n",
              "    </tr>\n",
              "    <tr>\n",
              "      <th>3</th>\n",
              "      <td>0.014427</td>\n",
              "      <td>ROADCOND_dry</td>\n",
              "    </tr>\n",
              "    <tr>\n",
              "      <th>2</th>\n",
              "      <td>0.012948</td>\n",
              "      <td>SPEEDING</td>\n",
              "    </tr>\n",
              "    <tr>\n",
              "      <th>14</th>\n",
              "      <td>0.011227</td>\n",
              "      <td>LIGHTCOND_dark - street lights on</td>\n",
              "    </tr>\n",
              "    <tr>\n",
              "      <th>11</th>\n",
              "      <td>0.008621</td>\n",
              "      <td>ROADCOND_wet</td>\n",
              "    </tr>\n",
              "    <tr>\n",
              "      <th>1</th>\n",
              "      <td>0.008228</td>\n",
              "      <td>UNDERINFL</td>\n",
              "    </tr>\n",
              "    <tr>\n",
              "      <th>26</th>\n",
              "      <td>0.006262</td>\n",
              "      <td>WEATHER_overcast</td>\n",
              "    </tr>\n",
              "    <tr>\n",
              "      <th>28</th>\n",
              "      <td>0.004535</td>\n",
              "      <td>WEATHER_raining</td>\n",
              "    </tr>\n",
              "    <tr>\n",
              "      <th>18</th>\n",
              "      <td>0.002593</td>\n",
              "      <td>LIGHTCOND_dusk</td>\n",
              "    </tr>\n",
              "    <tr>\n",
              "      <th>12</th>\n",
              "      <td>0.001620</td>\n",
              "      <td>LIGHTCOND_dark - no street lights</td>\n",
              "    </tr>\n",
              "    <tr>\n",
              "      <th>16</th>\n",
              "      <td>0.001444</td>\n",
              "      <td>LIGHTCOND_dawn</td>\n",
              "    </tr>\n",
              "    <tr>\n",
              "      <th>4</th>\n",
              "      <td>0.001372</td>\n",
              "      <td>ROADCOND_ice</td>\n",
              "    </tr>\n",
              "    <tr>\n",
              "      <th>8</th>\n",
              "      <td>0.001165</td>\n",
              "      <td>ROADCOND_snow/slush</td>\n",
              "    </tr>\n",
              "    <tr>\n",
              "      <th>13</th>\n",
              "      <td>0.001107</td>\n",
              "      <td>LIGHTCOND_dark - street lights off</td>\n",
              "    </tr>\n",
              "    <tr>\n",
              "      <th>24</th>\n",
              "      <td>0.000989</td>\n",
              "      <td>WEATHER_fog/smog/smoke</td>\n",
              "    </tr>\n",
              "    <tr>\n",
              "      <th>31</th>\n",
              "      <td>0.000953</td>\n",
              "      <td>WEATHER_snowing</td>\n",
              "    </tr>\n",
              "    <tr>\n",
              "      <th>25</th>\n",
              "      <td>0.000893</td>\n",
              "      <td>WEATHER_other</td>\n",
              "    </tr>\n",
              "    <tr>\n",
              "      <th>19</th>\n",
              "      <td>0.000579</td>\n",
              "      <td>LIGHTCOND_other</td>\n",
              "    </tr>\n",
              "    <tr>\n",
              "      <th>6</th>\n",
              "      <td>0.000530</td>\n",
              "      <td>ROADCOND_other</td>\n",
              "    </tr>\n",
              "    <tr>\n",
              "      <th>30</th>\n",
              "      <td>0.000496</td>\n",
              "      <td>WEATHER_sleet/hail/freezing rain</td>\n",
              "    </tr>\n",
              "    <tr>\n",
              "      <th>9</th>\n",
              "      <td>0.000411</td>\n",
              "      <td>ROADCOND_standing water</td>\n",
              "    </tr>\n",
              "    <tr>\n",
              "      <th>5</th>\n",
              "      <td>0.000293</td>\n",
              "      <td>ROADCOND_oil</td>\n",
              "    </tr>\n",
              "    <tr>\n",
              "      <th>7</th>\n",
              "      <td>0.000292</td>\n",
              "      <td>ROADCOND_sand/mud/dirt</td>\n",
              "    </tr>\n",
              "    <tr>\n",
              "      <th>21</th>\n",
              "      <td>0.000225</td>\n",
              "      <td>WEATHER_blowing sand/dirt</td>\n",
              "    </tr>\n",
              "    <tr>\n",
              "      <th>29</th>\n",
              "      <td>0.000167</td>\n",
              "      <td>WEATHER_severe crosswind</td>\n",
              "    </tr>\n",
              "    <tr>\n",
              "      <th>27</th>\n",
              "      <td>0.000152</td>\n",
              "      <td>WEATHER_partly cloudy</td>\n",
              "    </tr>\n",
              "    <tr>\n",
              "      <th>15</th>\n",
              "      <td>0.000124</td>\n",
              "      <td>LIGHTCOND_dark - unknown lighting</td>\n",
              "    </tr>\n",
              "    <tr>\n",
              "      <th>22</th>\n",
              "      <td>0.000043</td>\n",
              "      <td>WEATHER_blowing snow</td>\n",
              "    </tr>\n",
              "  </tbody>\n",
              "</table>\n",
              "</div>"
            ],
            "text/plain": [
              "         Imp                                cols\n",
              "33  0.794022                            VEHCOUNT\n",
              "10  0.027129                    ROADCOND_unknown\n",
              "17  0.023342                  LIGHTCOND_daylight\n",
              "32  0.021133                     WEATHER_unknown\n",
              "20  0.019610                   LIGHTCOND_unknown\n",
              "23  0.018528                       WEATHER_clear\n",
              "0   0.014538                      INATTENTIONIND\n",
              "3   0.014427                        ROADCOND_dry\n",
              "2   0.012948                            SPEEDING\n",
              "14  0.011227   LIGHTCOND_dark - street lights on\n",
              "11  0.008621                        ROADCOND_wet\n",
              "1   0.008228                           UNDERINFL\n",
              "26  0.006262                    WEATHER_overcast\n",
              "28  0.004535                     WEATHER_raining\n",
              "18  0.002593                      LIGHTCOND_dusk\n",
              "12  0.001620   LIGHTCOND_dark - no street lights\n",
              "16  0.001444                      LIGHTCOND_dawn\n",
              "4   0.001372                        ROADCOND_ice\n",
              "8   0.001165                 ROADCOND_snow/slush\n",
              "13  0.001107  LIGHTCOND_dark - street lights off\n",
              "24  0.000989              WEATHER_fog/smog/smoke\n",
              "31  0.000953                     WEATHER_snowing\n",
              "25  0.000893                       WEATHER_other\n",
              "19  0.000579                     LIGHTCOND_other\n",
              "6   0.000530                      ROADCOND_other\n",
              "30  0.000496    WEATHER_sleet/hail/freezing rain\n",
              "9   0.000411             ROADCOND_standing water\n",
              "5   0.000293                        ROADCOND_oil\n",
              "7   0.000292              ROADCOND_sand/mud/dirt\n",
              "21  0.000225           WEATHER_blowing sand/dirt\n",
              "29  0.000167            WEATHER_severe crosswind\n",
              "27  0.000152               WEATHER_partly cloudy\n",
              "15  0.000124   LIGHTCOND_dark - unknown lighting\n",
              "22  0.000043                WEATHER_blowing snow"
            ]
          },
          "metadata": {
            "tags": []
          },
          "execution_count": 64
        }
      ]
    },
    {
      "cell_type": "code",
      "metadata": {
        "id": "n5yC5wjIPpFp"
      },
      "source": [
        ""
      ],
      "execution_count": 64,
      "outputs": []
    }
  ]
}